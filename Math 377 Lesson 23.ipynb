{
 "cells": [
  {
   "cell_type": "code",
   "execution_count": 1,
   "metadata": {},
   "outputs": [],
   "source": [
    "from datascience import *\n",
    "import numpy as np\n",
    "from math import *\n",
    "from scipy import stats\n",
    "import matplotlib.pyplot as plt\n",
    "%matplotlib inline"
   ]
  },
  {
   "cell_type": "markdown",
   "metadata": {},
   "source": [
    "## Lesson 23: Hypothesis Testing, Continued"
   ]
  },
  {
   "cell_type": "markdown",
   "metadata": {},
   "source": [
    "Recall in Lesson 22, we covered hypothesis testing. The structure of a hypothesis test is largely similar regardless of the context of the problem. We state the hypotheses, decide on a test statistic, calculate the $p$-value and reach a conclusion. To calculate a $p$-value, we need to find the distribution of the test statistic under the null hypothesis. "
   ]
  },
  {
   "cell_type": "markdown",
   "metadata": {},
   "source": [
    "### Example 1: The Lady Tasting Tea\n",
    "\n",
    "The \"lady tasting tea\" problem is a now famous story during which, at a gathering one summer afternoon in Cambridge, some friends drank tea with milk. Among them, a woman claimed to be able to tell, based on taste, whether the milk or the tea was added first to the cup. A now famous statistician, Ronald Fisher, was at the gathering, and he studied the claim. The woman was offered 8 cups of tea mixed with milk (4 with milk added first and 4 with tea added first) and she successfully identified 6 (3 of each). What can we say about her ability to discriminate the teas? "
   ]
  },
  {
   "cell_type": "markdown",
   "metadata": {},
   "source": [
    "Step 1: State the hypotheses:\n",
    "Ho(null): there is no difference between her ability to identify milk from tea and vice versa.\n",
    "\n",
    "Ha(alternate): she can identify the differences in tea based on whether tea or milk was added first."
   ]
  },
  {
   "cell_type": "markdown",
   "metadata": {},
   "source": [
    "Step 2: Determine/Calculate test statistic:\n",
    "\n",
    "The test statistic is a: hypergeometric problem.\n",
    "\n",
    "X: the number of times she correctly chose tea first.\n",
    "\n",
    "8 - X: the number of times she correctly chose milk first.\n",
    "\n",
    "\n",
    "X = 3 (she successfully has chosen 3 teas correctly)\n",
    "\n",
    "M: total number of things in the bucket: 8\n",
    "\n",
    "n: 4\n",
    "\n",
    "N: 4"
   ]
  },
  {
   "cell_type": "markdown",
   "metadata": {},
   "source": [
    "Step 3: Dstribution of test statistic under Ho and compute the p-value."
   ]
  },
  {
   "cell_type": "code",
   "execution_count": 22,
   "metadata": {},
   "outputs": [
    {
     "data": {
      "text/plain": [
       "array([2])"
      ]
     },
     "execution_count": 22,
     "metadata": {},
     "output_type": "execute_result"
    }
   ],
   "source": [
    "M,n,N=8,4,4\n",
    "stats.hypergeom.rvs(M,n,N, size=1)\n",
    "\n",
    "# We do not see the number 3 come up a lot. The probability of getting 3 is much lower than that of getting 2."
   ]
  },
  {
   "cell_type": "code",
   "execution_count": 23,
   "metadata": {},
   "outputs": [
    {
     "data": {
      "text/plain": [
       "0.24285714285714288"
      ]
     },
     "execution_count": 23,
     "metadata": {},
     "output_type": "execute_result"
    }
   ],
   "source": [
    "# Probability that she correctly identified 3 teas correctly (p-value)\n",
    "1 - stats.hypergeom.cdf(2, M,n,N)\n",
    "# Looks like about 24% of the time."
   ]
  },
  {
   "cell_type": "markdown",
   "metadata": {},
   "source": [
    "Step 4: Conclusion: Fails to reject the null hypothesis because it is still possible for her to have guessed randomly and gotten this result. To be able to conclude differently, we would need the lady to pick from more than 8 cups (need a larger population/set of data)."
   ]
  },
  {
   "cell_type": "markdown",
   "metadata": {},
   "source": [
    "### Example 2: iris dataset\n",
    "\n",
    "The `iris` dataset is common in introductory statistics. It shows various characteristics of three different species of irises. Let's determine whether the virginica species has a larger mean sepal width than that of versicolor. "
   ]
  },
  {
   "cell_type": "code",
   "execution_count": 26,
   "metadata": {},
   "outputs": [
    {
     "data": {
      "text/html": [
       "<table border=\"1\" class=\"dataframe\">\n",
       "    <thead>\n",
       "        <tr>\n",
       "            <th>species</th> <th>sepal_length mean</th> <th>sepal_width mean</th> <th>petal_length mean</th> <th>petal_width mean</th>\n",
       "        </tr>\n",
       "    </thead>\n",
       "    <tbody>\n",
       "        <tr>\n",
       "            <td>setosa    </td> <td>5.006            </td> <td>3.418           </td> <td>1.464            </td> <td>0.244           </td>\n",
       "        </tr>\n",
       "        <tr>\n",
       "            <td>versicolor</td> <td>5.936            </td> <td>2.77            </td> <td>4.26             </td> <td>1.326           </td>\n",
       "        </tr>\n",
       "        <tr>\n",
       "            <td>virginica </td> <td>6.588            </td> <td>2.974           </td> <td>5.552            </td> <td>2.026           </td>\n",
       "        </tr>\n",
       "    </tbody>\n",
       "</table>"
      ],
      "text/plain": [
       "species    | sepal_length mean | sepal_width mean | petal_length mean | petal_width mean\n",
       "setosa     | 5.006             | 3.418            | 1.464             | 0.244\n",
       "versicolor | 5.936             | 2.77             | 4.26              | 1.326\n",
       "virginica  | 6.588             | 2.974            | 5.552             | 2.026"
      ]
     },
     "execution_count": 26,
     "metadata": {},
     "output_type": "execute_result"
    }
   ],
   "source": [
    "iris=Table().read_table(\"iris.csv\")\n",
    "iris.group(4,np.mean)"
   ]
  },
  {
   "cell_type": "markdown",
   "metadata": {},
   "source": [
    "Step 1: State the hypotheses:\n",
    "\n",
    "Ho(null): the virginica species does not have a larger mean sepal width than that of versicolor. (no difference)\n",
    "\n",
    "Ha(alternate): the virginica species does have a larger mean sepal width than that of versicolor."
   ]
  },
  {
   "cell_type": "markdown",
   "metadata": {},
   "source": [
    "Step 2: Determine/Calculate test statistic:\n",
    "Difference in the sample mean between versicolor and virginica:"
   ]
  },
  {
   "cell_type": "code",
   "execution_count": 28,
   "metadata": {},
   "outputs": [
    {
     "data": {
      "text/plain": [
       "0.20400000000000018"
      ]
     },
     "execution_count": 28,
     "metadata": {},
     "output_type": "execute_result"
    }
   ],
   "source": [
    "2.974-2.77"
   ]
  },
  {
   "cell_type": "markdown",
   "metadata": {},
   "source": [
    "Step 3: \n",
    "If Ho = True, we should see a bell curve around 0 (no difference -- null hypothesis)"
   ]
  },
  {
   "cell_type": "code",
   "execution_count": 33,
   "metadata": {},
   "outputs": [
    {
     "data": {
      "text/html": [
       "<table border=\"1\" class=\"dataframe\">\n",
       "    <thead>\n",
       "        <tr>\n",
       "            <th>species</th> <th>sepal_width</th>\n",
       "        </tr>\n",
       "    </thead>\n",
       "    <tbody>\n",
       "        <tr>\n",
       "            <td>versicolor</td> <td>3.2        </td>\n",
       "        </tr>\n",
       "        <tr>\n",
       "            <td>versicolor</td> <td>3.2        </td>\n",
       "        </tr>\n",
       "        <tr>\n",
       "            <td>versicolor</td> <td>3.1        </td>\n",
       "        </tr>\n",
       "        <tr>\n",
       "            <td>versicolor</td> <td>2.3        </td>\n",
       "        </tr>\n",
       "        <tr>\n",
       "            <td>versicolor</td> <td>2.8        </td>\n",
       "        </tr>\n",
       "        <tr>\n",
       "            <td>versicolor</td> <td>2.8        </td>\n",
       "        </tr>\n",
       "        <tr>\n",
       "            <td>versicolor</td> <td>3.3        </td>\n",
       "        </tr>\n",
       "        <tr>\n",
       "            <td>versicolor</td> <td>2.4        </td>\n",
       "        </tr>\n",
       "        <tr>\n",
       "            <td>versicolor</td> <td>2.9        </td>\n",
       "        </tr>\n",
       "        <tr>\n",
       "            <td>versicolor</td> <td>2.7        </td>\n",
       "        </tr>\n",
       "        <tr>\n",
       "            <td>versicolor</td> <td>2          </td>\n",
       "        </tr>\n",
       "        <tr>\n",
       "            <td>versicolor</td> <td>3          </td>\n",
       "        </tr>\n",
       "        <tr>\n",
       "            <td>versicolor</td> <td>2.2        </td>\n",
       "        </tr>\n",
       "        <tr>\n",
       "            <td>versicolor</td> <td>2.9        </td>\n",
       "        </tr>\n",
       "        <tr>\n",
       "            <td>versicolor</td> <td>2.9        </td>\n",
       "        </tr>\n",
       "        <tr>\n",
       "            <td>versicolor</td> <td>3.1        </td>\n",
       "        </tr>\n",
       "        <tr>\n",
       "            <td>versicolor</td> <td>3          </td>\n",
       "        </tr>\n",
       "        <tr>\n",
       "            <td>versicolor</td> <td>2.7        </td>\n",
       "        </tr>\n",
       "        <tr>\n",
       "            <td>versicolor</td> <td>2.2        </td>\n",
       "        </tr>\n",
       "        <tr>\n",
       "            <td>versicolor</td> <td>2.5        </td>\n",
       "        </tr>\n",
       "        <tr>\n",
       "            <td>versicolor</td> <td>3.2        </td>\n",
       "        </tr>\n",
       "        <tr>\n",
       "            <td>versicolor</td> <td>2.8        </td>\n",
       "        </tr>\n",
       "        <tr>\n",
       "            <td>versicolor</td> <td>2.5        </td>\n",
       "        </tr>\n",
       "        <tr>\n",
       "            <td>versicolor</td> <td>2.8        </td>\n",
       "        </tr>\n",
       "        <tr>\n",
       "            <td>versicolor</td> <td>2.9        </td>\n",
       "        </tr>\n",
       "        <tr>\n",
       "            <td>versicolor</td> <td>3          </td>\n",
       "        </tr>\n",
       "        <tr>\n",
       "            <td>versicolor</td> <td>2.8        </td>\n",
       "        </tr>\n",
       "        <tr>\n",
       "            <td>versicolor</td> <td>3          </td>\n",
       "        </tr>\n",
       "        <tr>\n",
       "            <td>versicolor</td> <td>2.9        </td>\n",
       "        </tr>\n",
       "        <tr>\n",
       "            <td>versicolor</td> <td>2.6        </td>\n",
       "        </tr>\n",
       "        <tr>\n",
       "            <td>versicolor</td> <td>2.4        </td>\n",
       "        </tr>\n",
       "        <tr>\n",
       "            <td>versicolor</td> <td>2.4        </td>\n",
       "        </tr>\n",
       "        <tr>\n",
       "            <td>versicolor</td> <td>2.7        </td>\n",
       "        </tr>\n",
       "        <tr>\n",
       "            <td>versicolor</td> <td>2.7        </td>\n",
       "        </tr>\n",
       "        <tr>\n",
       "            <td>versicolor</td> <td>3          </td>\n",
       "        </tr>\n",
       "        <tr>\n",
       "            <td>versicolor</td> <td>3.4        </td>\n",
       "        </tr>\n",
       "        <tr>\n",
       "            <td>versicolor</td> <td>3.1        </td>\n",
       "        </tr>\n",
       "        <tr>\n",
       "            <td>versicolor</td> <td>2.3        </td>\n",
       "        </tr>\n",
       "        <tr>\n",
       "            <td>versicolor</td> <td>3          </td>\n",
       "        </tr>\n",
       "        <tr>\n",
       "            <td>versicolor</td> <td>2.5        </td>\n",
       "        </tr>\n",
       "        <tr>\n",
       "            <td>versicolor</td> <td>2.6        </td>\n",
       "        </tr>\n",
       "        <tr>\n",
       "            <td>versicolor</td> <td>3          </td>\n",
       "        </tr>\n",
       "        <tr>\n",
       "            <td>versicolor</td> <td>2.6        </td>\n",
       "        </tr>\n",
       "        <tr>\n",
       "            <td>versicolor</td> <td>2.3        </td>\n",
       "        </tr>\n",
       "        <tr>\n",
       "            <td>versicolor</td> <td>2.7        </td>\n",
       "        </tr>\n",
       "        <tr>\n",
       "            <td>versicolor</td> <td>3          </td>\n",
       "        </tr>\n",
       "        <tr>\n",
       "            <td>versicolor</td> <td>2.9        </td>\n",
       "        </tr>\n",
       "        <tr>\n",
       "            <td>versicolor</td> <td>2.9        </td>\n",
       "        </tr>\n",
       "        <tr>\n",
       "            <td>versicolor</td> <td>2.5        </td>\n",
       "        </tr>\n",
       "        <tr>\n",
       "            <td>versicolor</td> <td>2.8        </td>\n",
       "        </tr>\n",
       "        <tr>\n",
       "            <td>virginica </td> <td>3.3        </td>\n",
       "        </tr>\n",
       "        <tr>\n",
       "            <td>virginica </td> <td>2.7        </td>\n",
       "        </tr>\n",
       "        <tr>\n",
       "            <td>virginica </td> <td>3          </td>\n",
       "        </tr>\n",
       "        <tr>\n",
       "            <td>virginica </td> <td>2.9        </td>\n",
       "        </tr>\n",
       "        <tr>\n",
       "            <td>virginica </td> <td>3          </td>\n",
       "        </tr>\n",
       "        <tr>\n",
       "            <td>virginica </td> <td>3          </td>\n",
       "        </tr>\n",
       "        <tr>\n",
       "            <td>virginica </td> <td>2.5        </td>\n",
       "        </tr>\n",
       "        <tr>\n",
       "            <td>virginica </td> <td>2.9        </td>\n",
       "        </tr>\n",
       "        <tr>\n",
       "            <td>virginica </td> <td>2.5        </td>\n",
       "        </tr>\n",
       "        <tr>\n",
       "            <td>virginica </td> <td>3.6        </td>\n",
       "        </tr>\n",
       "        <tr>\n",
       "            <td>virginica </td> <td>3.2        </td>\n",
       "        </tr>\n",
       "        <tr>\n",
       "            <td>virginica </td> <td>2.7        </td>\n",
       "        </tr>\n",
       "        <tr>\n",
       "            <td>virginica </td> <td>3          </td>\n",
       "        </tr>\n",
       "        <tr>\n",
       "            <td>virginica </td> <td>2.5        </td>\n",
       "        </tr>\n",
       "        <tr>\n",
       "            <td>virginica </td> <td>2.8        </td>\n",
       "        </tr>\n",
       "        <tr>\n",
       "            <td>virginica </td> <td>3.2        </td>\n",
       "        </tr>\n",
       "        <tr>\n",
       "            <td>virginica </td> <td>3          </td>\n",
       "        </tr>\n",
       "        <tr>\n",
       "            <td>virginica </td> <td>3.8        </td>\n",
       "        </tr>\n",
       "        <tr>\n",
       "            <td>virginica </td> <td>2.6        </td>\n",
       "        </tr>\n",
       "        <tr>\n",
       "            <td>virginica </td> <td>2.2        </td>\n",
       "        </tr>\n",
       "        <tr>\n",
       "            <td>virginica </td> <td>3.2        </td>\n",
       "        </tr>\n",
       "        <tr>\n",
       "            <td>virginica </td> <td>2.8        </td>\n",
       "        </tr>\n",
       "        <tr>\n",
       "            <td>virginica </td> <td>2.8        </td>\n",
       "        </tr>\n",
       "        <tr>\n",
       "            <td>virginica </td> <td>2.7        </td>\n",
       "        </tr>\n",
       "        <tr>\n",
       "            <td>virginica </td> <td>3.3        </td>\n",
       "        </tr>\n",
       "        <tr>\n",
       "            <td>virginica </td> <td>3.2        </td>\n",
       "        </tr>\n",
       "        <tr>\n",
       "            <td>virginica </td> <td>2.8        </td>\n",
       "        </tr>\n",
       "        <tr>\n",
       "            <td>virginica </td> <td>3          </td>\n",
       "        </tr>\n",
       "        <tr>\n",
       "            <td>virginica </td> <td>2.8        </td>\n",
       "        </tr>\n",
       "        <tr>\n",
       "            <td>virginica </td> <td>3          </td>\n",
       "        </tr>\n",
       "        <tr>\n",
       "            <td>virginica </td> <td>2.8        </td>\n",
       "        </tr>\n",
       "        <tr>\n",
       "            <td>virginica </td> <td>3.8        </td>\n",
       "        </tr>\n",
       "        <tr>\n",
       "            <td>virginica </td> <td>2.8        </td>\n",
       "        </tr>\n",
       "        <tr>\n",
       "            <td>virginica </td> <td>2.8        </td>\n",
       "        </tr>\n",
       "        <tr>\n",
       "            <td>virginica </td> <td>2.6        </td>\n",
       "        </tr>\n",
       "        <tr>\n",
       "            <td>virginica </td> <td>3          </td>\n",
       "        </tr>\n",
       "        <tr>\n",
       "            <td>virginica </td> <td>3.4        </td>\n",
       "        </tr>\n",
       "        <tr>\n",
       "            <td>virginica </td> <td>3.1        </td>\n",
       "        </tr>\n",
       "        <tr>\n",
       "            <td>virginica </td> <td>3          </td>\n",
       "        </tr>\n",
       "        <tr>\n",
       "            <td>virginica </td> <td>3.1        </td>\n",
       "        </tr>\n",
       "        <tr>\n",
       "            <td>virginica </td> <td>3.1        </td>\n",
       "        </tr>\n",
       "        <tr>\n",
       "            <td>virginica </td> <td>3.1        </td>\n",
       "        </tr>\n",
       "        <tr>\n",
       "            <td>virginica </td> <td>2.7        </td>\n",
       "        </tr>\n",
       "        <tr>\n",
       "            <td>virginica </td> <td>3.2        </td>\n",
       "        </tr>\n",
       "        <tr>\n",
       "            <td>virginica </td> <td>3.3        </td>\n",
       "        </tr>\n",
       "        <tr>\n",
       "            <td>virginica </td> <td>3          </td>\n",
       "        </tr>\n",
       "        <tr>\n",
       "            <td>virginica </td> <td>2.5        </td>\n",
       "        </tr>\n",
       "        <tr>\n",
       "            <td>virginica </td> <td>3          </td>\n",
       "        </tr>\n",
       "        <tr>\n",
       "            <td>virginica </td> <td>3.4        </td>\n",
       "        </tr>\n",
       "        <tr>\n",
       "            <td>virginica </td> <td>3          </td>\n",
       "        </tr>\n",
       "    </tbody>\n",
       "</table>"
      ],
      "text/plain": [
       "<IPython.core.display.HTML object>"
      ]
     },
     "metadata": {},
     "output_type": "display_data"
    }
   ],
   "source": [
    "iris_sub=iris.select(4,1).where(0,are.not_containing('setosa'))\n",
    "obs=np.diff(iris_sub.group(0,np.mean).column(1))[0]\n",
    "obs\n",
    "iris_sub.show()"
   ]
  },
  {
   "cell_type": "code",
   "execution_count": 34,
   "metadata": {},
   "outputs": [],
   "source": [
    "num_obs = iris_sub.num_rows\n",
    "ts=[]\n",
    "for _ in np.arange(10000):\n",
    "    iris_sample = iris_sub.with_column(\"sampled\",iris_sub.sample(num_obs,with_replacement=False).column(1))\n",
    "    ts=np.append(ts,np.diff(iris_sample.group(0,np.mean).column(2))[0])"
   ]
  },
  {
   "cell_type": "code",
   "execution_count": 35,
   "metadata": {},
   "outputs": [
    {
     "data": {
      "image/png": "[encoded data removed]",
      "text/plain": [
       "<Figure size 432x288 with 1 Axes>"
      ]
     },
     "metadata": {},
     "output_type": "display_data"
    }
   ],
   "source": [
    "plt.hist(ts)\n",
    "plt.show()"
   ]
  },
  {
   "cell_type": "code",
   "execution_count": 42,
   "metadata": {},
   "outputs": [
    {
     "data": {
      "text/plain": [
       "0.09"
      ]
     },
     "execution_count": 42,
     "metadata": {},
     "output_type": "execute_result"
    }
   ],
   "source": [
    "#Looking at the observed data, what is the probability that it lands within the distribution:\n",
    "(sum(ts>0.204)/10000)* 100"
   ]
  },
  {
   "cell_type": "markdown",
   "metadata": {},
   "source": [
    "Step 4: Conclusion: Considering that the probability of getting a value greater than 0.204 occurs less than 0.09% of the time (much less than 1%, let alone 5%), we can consider this siginificant enough to reject the null hypothesis. Hence, the virginica species does have a larger mean sepal width than that of versicolor."
   ]
  }
 ],
 "metadata": {
  "kernelspec": {
   "display_name": "Python 3",
   "language": "python",
   "name": "python3"
  },
  "language_info": {
   "codemirror_mode": {
    "name": "ipython",
    "version": 3
   },
   "file_extension": ".py",
   "mimetype": "text/x-python",
   "name": "python",
   "nbconvert_exporter": "python",
   "pygments_lexer": "ipython3",
   "version": "3.6.5"
  }
 },
 "nbformat": 4,
 "nbformat_minor": 2
}
